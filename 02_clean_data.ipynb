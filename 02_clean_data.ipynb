{
 "cells": [
  {
   "cell_type": "code",
   "execution_count": 27,
   "metadata": {},
   "outputs": [],
   "source": [
    "from datetime import datetime, timedelta\n",
    "import time\n",
    "import pandas as pd"
   ]
  },
  {
   "cell_type": "markdown",
   "metadata": {},
   "source": [
    "# Data cleaning"
   ]
  },
  {
   "cell_type": "markdown",
   "metadata": {},
   "source": [
    "Functie om de data op te kuisen"
   ]
  },
  {
   "cell_type": "code",
   "execution_count": 28,
   "metadata": {},
   "outputs": [],
   "source": [
    "def clean_data(df):\n",
    "    # Verwijder de kolom 'ranking', deze is nutteloos\n",
    "    df.drop('ranking', axis=1, inplace=True)\n",
    "\n",
    "    # Verwijder rijen met null waarden, deze zijn fout geregistreerd in de DB\n",
    "    df.dropna(inplace=True)\n",
    "        \n",
    "    # Verwijder rijen waarvan tijdformaat nie overeenkomt met xx:xx:xx\n",
    "    time_pattern = r'^\\d{2}:\\d{2}:\\d{2}$'\n",
    "\n",
    "    df = df[\n",
    "        df[\"startTime\"].str.match(time_pattern, na=False) & \n",
    "        df[\"rLength\"].str.match(time_pattern, na=False)\n",
    "    ].copy()\n",
    "\n",
    "    # rLength omzetten naar seconden -> duration_sec\n",
    "    # dateDiff omzetten naar datetime\n",
    "    df['duration_sec'] = pd.to_timedelta(df['rLength']).dt.total_seconds()\n",
    "    df['date'] = pd.to_datetime(df[\"dateDiff\"]).dt.date\n",
    "\n",
    "    # rateInK omzetten naar int -> viewers\n",
    "    df['viewers'] = df['rateInK'].apply(lambda x: int(''.join(str(x).split('.'))))\n",
    "\n",
    "    #startTime: 24:30:00 omzetten naar 00:30:00 en dateDiff 1 dag verhogen\n",
    "    def fix_next_day(rij):\n",
    "        time_parts = rij['startTime'].split(':')\n",
    "        if int(time_parts[0]) >= 24:\n",
    "            time_parts[0] = str(int(time_parts[0]) - 24).zfill(2)\n",
    "            rij['date'] += timedelta(days=1)\n",
    "        rij['startTime'] = ':'.join(time_parts)\n",
    "        return rij\n",
    "\n",
    "    df = df.apply(fix_next_day, axis=1)\n",
    "\n",
    "    # timestamp kolom toevoegen op basis van dateDiff en startTime\n",
    "    df['timestamp'] = pd.to_datetime(df['date'].astype(str) + ' ' + df['startTime'].astype(str))\n",
    "\n",
    "    # Live: boolean maken, of getal houden?? 28 > 7 > 1 > 0 heeft groter getal ook correlatie met kijkcijfer???\n",
    "    # Beslissing: Live kolom laten als int\n",
    "\n",
    "    # Hour year month day toevoegen\n",
    "    df['hour'] = pd.to_datetime(df['startTime']).dt.hour\n",
    "    df['year'] = pd.to_datetime(df['date']).dt.year\n",
    "    df['month'] = pd.to_datetime(df['date']).dt.month\n",
    "    df['day'] = pd.to_datetime(df['date']).dt.day\n",
    "\n",
    "    # Onnodige kolommen verwijderen\n",
    "    df.drop(['startTime', 'rLength', 'rateInK'], axis=1, inplace=True)\n",
    "\n",
    "    df = df[['timestamp', 'date', 'year', 'month', 'day', 'hour', 'channel', 'description', 'duration_sec', 'live', 'viewers']]\n",
    "\n",
    "    df.rename(columns={'description': 'program'}, inplace=True)\n",
    "\n",
    "    return df"
   ]
  },
  {
   "cell_type": "markdown",
   "metadata": {},
   "source": [
    "Data opkuisen"
   ]
  },
  {
   "cell_type": "code",
   "execution_count": 29,
   "metadata": {},
   "outputs": [
    {
     "name": "stderr",
     "output_type": "stream",
     "text": [
      "C:\\Users\\dylan\\AppData\\Local\\Temp\\ipykernel_17732\\3836137169.py:42: UserWarning: Could not infer format, so each element will be parsed individually, falling back to `dateutil`. To ensure parsing is consistent and as-expected, please specify a format.\n",
      "  df['hour'] = pd.to_datetime(df['startTime']).dt.hour\n"
     ]
    },
    {
     "data": {
      "application/vnd.microsoft.datawrangler.viewer.v0+json": {
       "columns": [
        {
         "name": "index",
         "rawType": "int64",
         "type": "integer"
        },
        {
         "name": "timestamp",
         "rawType": "datetime64[ns]",
         "type": "datetime"
        },
        {
         "name": "date",
         "rawType": "object",
         "type": "unknown"
        },
        {
         "name": "year",
         "rawType": "int32",
         "type": "integer"
        },
        {
         "name": "month",
         "rawType": "int32",
         "type": "integer"
        },
        {
         "name": "day",
         "rawType": "int32",
         "type": "integer"
        },
        {
         "name": "hour",
         "rawType": "int32",
         "type": "integer"
        },
        {
         "name": "channel",
         "rawType": "object",
         "type": "string"
        },
        {
         "name": "program",
         "rawType": "object",
         "type": "string"
        },
        {
         "name": "duration_sec",
         "rawType": "float64",
         "type": "float"
        },
        {
         "name": "live",
         "rawType": "int64",
         "type": "integer"
        },
        {
         "name": "viewers",
         "rawType": "int64",
         "type": "integer"
        }
       ],
       "conversionMethod": "pd.DataFrame",
       "ref": "7f1fea14-aedb-4934-a2c1-0f7d123fa1c2",
       "rows": [
        [
         "5051",
         "2017-06-12 19:00:05",
         "2017-06-12",
         "2017",
         "6",
         "12",
         "19",
         "EEN",
         "HET 7 UUR-JOURNAAL",
         "2511.0",
         "0",
         "834071"
        ],
        [
         "60547",
         "2024-12-29 21:10:24",
         "2024-12-29",
         "2024",
         "12",
         "29",
         "21",
         "VTM",
         "HET CONCLAAF VAN 2024",
         "3239.0",
         "28",
         "338017"
        ],
        [
         "11008",
         "2018-04-05 20:41:14",
         "2018-04-05",
         "2018",
         "4",
         "5",
         "20",
         "CANVAS",
         "VB. C3 UEFA 1/4F",
         "1032.0",
         "0",
         "196268"
        ],
        [
         "27832",
         "2020-07-26 13:00:02",
         "2020-07-26",
         "2020",
         "7",
         "26",
         "13",
         "EEN",
         "HET 1 UUR-JOURNAAL",
         "1924.0",
         "0",
         "546728"
        ],
        [
         "59546",
         "2024-11-09 19:56:24",
         "2024-11-09",
         "2024",
         "11",
         "9",
         "19",
         "VTM",
         "EXPEDITIE PAIRI DAIZA",
         "1698.0",
         "28",
         "319191"
        ]
       ],
       "shape": {
        "columns": 11,
        "rows": 5
       }
      },
      "text/html": [
       "<div>\n",
       "<style scoped>\n",
       "    .dataframe tbody tr th:only-of-type {\n",
       "        vertical-align: middle;\n",
       "    }\n",
       "\n",
       "    .dataframe tbody tr th {\n",
       "        vertical-align: top;\n",
       "    }\n",
       "\n",
       "    .dataframe thead th {\n",
       "        text-align: right;\n",
       "    }\n",
       "</style>\n",
       "<table border=\"1\" class=\"dataframe\">\n",
       "  <thead>\n",
       "    <tr style=\"text-align: right;\">\n",
       "      <th></th>\n",
       "      <th>timestamp</th>\n",
       "      <th>date</th>\n",
       "      <th>year</th>\n",
       "      <th>month</th>\n",
       "      <th>day</th>\n",
       "      <th>hour</th>\n",
       "      <th>channel</th>\n",
       "      <th>program</th>\n",
       "      <th>duration_sec</th>\n",
       "      <th>live</th>\n",
       "      <th>viewers</th>\n",
       "    </tr>\n",
       "  </thead>\n",
       "  <tbody>\n",
       "    <tr>\n",
       "      <th>5051</th>\n",
       "      <td>2017-06-12 19:00:05</td>\n",
       "      <td>2017-06-12</td>\n",
       "      <td>2017</td>\n",
       "      <td>6</td>\n",
       "      <td>12</td>\n",
       "      <td>19</td>\n",
       "      <td>EEN</td>\n",
       "      <td>HET 7 UUR-JOURNAAL</td>\n",
       "      <td>2511.0</td>\n",
       "      <td>0</td>\n",
       "      <td>834071</td>\n",
       "    </tr>\n",
       "    <tr>\n",
       "      <th>60547</th>\n",
       "      <td>2024-12-29 21:10:24</td>\n",
       "      <td>2024-12-29</td>\n",
       "      <td>2024</td>\n",
       "      <td>12</td>\n",
       "      <td>29</td>\n",
       "      <td>21</td>\n",
       "      <td>VTM</td>\n",
       "      <td>HET CONCLAAF VAN 2024</td>\n",
       "      <td>3239.0</td>\n",
       "      <td>28</td>\n",
       "      <td>338017</td>\n",
       "    </tr>\n",
       "    <tr>\n",
       "      <th>11008</th>\n",
       "      <td>2018-04-05 20:41:14</td>\n",
       "      <td>2018-04-05</td>\n",
       "      <td>2018</td>\n",
       "      <td>4</td>\n",
       "      <td>5</td>\n",
       "      <td>20</td>\n",
       "      <td>CANVAS</td>\n",
       "      <td>VB. C3 UEFA 1/4F</td>\n",
       "      <td>1032.0</td>\n",
       "      <td>0</td>\n",
       "      <td>196268</td>\n",
       "    </tr>\n",
       "    <tr>\n",
       "      <th>27832</th>\n",
       "      <td>2020-07-26 13:00:02</td>\n",
       "      <td>2020-07-26</td>\n",
       "      <td>2020</td>\n",
       "      <td>7</td>\n",
       "      <td>26</td>\n",
       "      <td>13</td>\n",
       "      <td>EEN</td>\n",
       "      <td>HET 1 UUR-JOURNAAL</td>\n",
       "      <td>1924.0</td>\n",
       "      <td>0</td>\n",
       "      <td>546728</td>\n",
       "    </tr>\n",
       "    <tr>\n",
       "      <th>59546</th>\n",
       "      <td>2024-11-09 19:56:24</td>\n",
       "      <td>2024-11-09</td>\n",
       "      <td>2024</td>\n",
       "      <td>11</td>\n",
       "      <td>9</td>\n",
       "      <td>19</td>\n",
       "      <td>VTM</td>\n",
       "      <td>EXPEDITIE PAIRI DAIZA</td>\n",
       "      <td>1698.0</td>\n",
       "      <td>28</td>\n",
       "      <td>319191</td>\n",
       "    </tr>\n",
       "  </tbody>\n",
       "</table>\n",
       "</div>"
      ],
      "text/plain": [
       "                timestamp        date  year  month  day  hour channel  \\\n",
       "5051  2017-06-12 19:00:05  2017-06-12  2017      6   12    19     EEN   \n",
       "60547 2024-12-29 21:10:24  2024-12-29  2024     12   29    21     VTM   \n",
       "11008 2018-04-05 20:41:14  2018-04-05  2018      4    5    20  CANVAS   \n",
       "27832 2020-07-26 13:00:02  2020-07-26  2020      7   26    13     EEN   \n",
       "59546 2024-11-09 19:56:24  2024-11-09  2024     11    9    19     VTM   \n",
       "\n",
       "                     program  duration_sec  live  viewers  \n",
       "5051      HET 7 UUR-JOURNAAL        2511.0     0   834071  \n",
       "60547  HET CONCLAAF VAN 2024        3239.0    28   338017  \n",
       "11008       VB. C3 UEFA 1/4F        1032.0     0   196268  \n",
       "27832     HET 1 UUR-JOURNAAL        1924.0     0   546728  \n",
       "59546  EXPEDITIE PAIRI DAIZA        1698.0    28   319191  "
      ]
     },
     "execution_count": 29,
     "metadata": {},
     "output_type": "execute_result"
    }
   ],
   "source": [
    "kijkcijfers = pd.read_csv('./data/raw/tv_kijkcijfers_raw.csv')\n",
    "kijkcijfers = clean_data(kijkcijfers)\n",
    "kijkcijfers.sample(5)"
   ]
  },
  {
   "cell_type": "markdown",
   "metadata": {},
   "source": [
    "# Weerdata samenvoegen met kijkcijferdata"
   ]
  },
  {
   "cell_type": "code",
   "execution_count": 30,
   "metadata": {},
   "outputs": [
    {
     "data": {
      "application/vnd.microsoft.datawrangler.viewer.v0+json": {
       "columns": [
        {
         "name": "index",
         "rawType": "int64",
         "type": "integer"
        },
        {
         "name": "temperature",
         "rawType": "float64",
         "type": "float"
        },
        {
         "name": "weather_code",
         "rawType": "float64",
         "type": "float"
        },
        {
         "name": "precipitation",
         "rawType": "float64",
         "type": "float"
        },
        {
         "name": "rain",
         "rawType": "float64",
         "type": "float"
        },
        {
         "name": "snowfall",
         "rawType": "float64",
         "type": "float"
        },
        {
         "name": "cloudcover",
         "rawType": "float64",
         "type": "float"
        },
        {
         "name": "windspeed",
         "rawType": "float64",
         "type": "float"
        },
        {
         "name": "hour",
         "rawType": "int32",
         "type": "integer"
        },
        {
         "name": "month",
         "rawType": "int32",
         "type": "integer"
        },
        {
         "name": "year",
         "rawType": "int32",
         "type": "integer"
        },
        {
         "name": "datetime",
         "rawType": "datetime64[ns]",
         "type": "datetime"
        },
        {
         "name": "date",
         "rawType": "object",
         "type": "unknown"
        },
        {
         "name": "day",
         "rawType": "int32",
         "type": "integer"
        }
       ],
       "conversionMethod": "pd.DataFrame",
       "ref": "40d1b554-b026-45fb-8fd2-b2b4378db973",
       "rows": [
        [
         "77983",
         "10.2",
         "53.0",
         "0.9",
         "0.9",
         "0.0",
         "100.0",
         "42.1",
         "7",
         "1",
         "2024",
         "2024-01-22 07:00:00",
         "2024-01-22",
         "22"
        ],
        [
         "14451",
         "5.0",
         "0.0",
         "0.0",
         "0.0",
         "0.0",
         "19.0",
         "7.7",
         "3",
         "10",
         "2016",
         "2016-10-23 03:00:00",
         "2016-10-23",
         "23"
        ],
        [
         "25393",
         "4.5",
         "51.0",
         "0.2",
         "0.2",
         "0.0",
         "100.0",
         "20.3",
         "1",
         "1",
         "2018",
         "2018-01-22 01:00:00",
         "2018-01-22",
         "22"
        ],
        [
         "78167",
         "8.1",
         "3.0",
         "0.0",
         "0.0",
         "0.0",
         "92.0",
         "17.6",
         "23",
         "1",
         "2024",
         "2024-01-29 23:00:00",
         "2024-01-29",
         "29"
        ],
        [
         "38072",
         "14.6",
         "0.0",
         "0.0",
         "0.0",
         "0.0",
         "0.0",
         "10.7",
         "8",
         "7",
         "2019",
         "2019-07-04 08:00:00",
         "2019-07-04",
         "4"
        ]
       ],
       "shape": {
        "columns": 13,
        "rows": 5
       }
      },
      "text/html": [
       "<div>\n",
       "<style scoped>\n",
       "    .dataframe tbody tr th:only-of-type {\n",
       "        vertical-align: middle;\n",
       "    }\n",
       "\n",
       "    .dataframe tbody tr th {\n",
       "        vertical-align: top;\n",
       "    }\n",
       "\n",
       "    .dataframe thead th {\n",
       "        text-align: right;\n",
       "    }\n",
       "</style>\n",
       "<table border=\"1\" class=\"dataframe\">\n",
       "  <thead>\n",
       "    <tr style=\"text-align: right;\">\n",
       "      <th></th>\n",
       "      <th>temperature</th>\n",
       "      <th>weather_code</th>\n",
       "      <th>precipitation</th>\n",
       "      <th>rain</th>\n",
       "      <th>snowfall</th>\n",
       "      <th>cloudcover</th>\n",
       "      <th>windspeed</th>\n",
       "      <th>hour</th>\n",
       "      <th>month</th>\n",
       "      <th>year</th>\n",
       "      <th>datetime</th>\n",
       "      <th>date</th>\n",
       "      <th>day</th>\n",
       "    </tr>\n",
       "  </thead>\n",
       "  <tbody>\n",
       "    <tr>\n",
       "      <th>77983</th>\n",
       "      <td>10.2</td>\n",
       "      <td>53.0</td>\n",
       "      <td>0.9</td>\n",
       "      <td>0.9</td>\n",
       "      <td>0.0</td>\n",
       "      <td>100.0</td>\n",
       "      <td>42.1</td>\n",
       "      <td>7</td>\n",
       "      <td>1</td>\n",
       "      <td>2024</td>\n",
       "      <td>2024-01-22 07:00:00</td>\n",
       "      <td>2024-01-22</td>\n",
       "      <td>22</td>\n",
       "    </tr>\n",
       "    <tr>\n",
       "      <th>14451</th>\n",
       "      <td>5.0</td>\n",
       "      <td>0.0</td>\n",
       "      <td>0.0</td>\n",
       "      <td>0.0</td>\n",
       "      <td>0.0</td>\n",
       "      <td>19.0</td>\n",
       "      <td>7.7</td>\n",
       "      <td>3</td>\n",
       "      <td>10</td>\n",
       "      <td>2016</td>\n",
       "      <td>2016-10-23 03:00:00</td>\n",
       "      <td>2016-10-23</td>\n",
       "      <td>23</td>\n",
       "    </tr>\n",
       "    <tr>\n",
       "      <th>25393</th>\n",
       "      <td>4.5</td>\n",
       "      <td>51.0</td>\n",
       "      <td>0.2</td>\n",
       "      <td>0.2</td>\n",
       "      <td>0.0</td>\n",
       "      <td>100.0</td>\n",
       "      <td>20.3</td>\n",
       "      <td>1</td>\n",
       "      <td>1</td>\n",
       "      <td>2018</td>\n",
       "      <td>2018-01-22 01:00:00</td>\n",
       "      <td>2018-01-22</td>\n",
       "      <td>22</td>\n",
       "    </tr>\n",
       "    <tr>\n",
       "      <th>78167</th>\n",
       "      <td>8.1</td>\n",
       "      <td>3.0</td>\n",
       "      <td>0.0</td>\n",
       "      <td>0.0</td>\n",
       "      <td>0.0</td>\n",
       "      <td>92.0</td>\n",
       "      <td>17.6</td>\n",
       "      <td>23</td>\n",
       "      <td>1</td>\n",
       "      <td>2024</td>\n",
       "      <td>2024-01-29 23:00:00</td>\n",
       "      <td>2024-01-29</td>\n",
       "      <td>29</td>\n",
       "    </tr>\n",
       "    <tr>\n",
       "      <th>38072</th>\n",
       "      <td>14.6</td>\n",
       "      <td>0.0</td>\n",
       "      <td>0.0</td>\n",
       "      <td>0.0</td>\n",
       "      <td>0.0</td>\n",
       "      <td>0.0</td>\n",
       "      <td>10.7</td>\n",
       "      <td>8</td>\n",
       "      <td>7</td>\n",
       "      <td>2019</td>\n",
       "      <td>2019-07-04 08:00:00</td>\n",
       "      <td>2019-07-04</td>\n",
       "      <td>4</td>\n",
       "    </tr>\n",
       "  </tbody>\n",
       "</table>\n",
       "</div>"
      ],
      "text/plain": [
       "       temperature  weather_code  precipitation  rain  snowfall  cloudcover  \\\n",
       "77983         10.2          53.0            0.9   0.9       0.0       100.0   \n",
       "14451          5.0           0.0            0.0   0.0       0.0        19.0   \n",
       "25393          4.5          51.0            0.2   0.2       0.0       100.0   \n",
       "78167          8.1           3.0            0.0   0.0       0.0        92.0   \n",
       "38072         14.6           0.0            0.0   0.0       0.0         0.0   \n",
       "\n",
       "       windspeed  hour  month  year            datetime        date  day  \n",
       "77983       42.1     7      1  2024 2024-01-22 07:00:00  2024-01-22   22  \n",
       "14451        7.7     3     10  2016 2016-10-23 03:00:00  2016-10-23   23  \n",
       "25393       20.3     1      1  2018 2018-01-22 01:00:00  2018-01-22   22  \n",
       "78167       17.6    23      1  2024 2024-01-29 23:00:00  2024-01-29   29  \n",
       "38072       10.7     8      7  2019 2019-07-04 08:00:00  2019-07-04    4  "
      ]
     },
     "execution_count": 30,
     "metadata": {},
     "output_type": "execute_result"
    }
   ],
   "source": [
    "weer_data = pd.read_csv('./data/raw/weerdata.csv')\n",
    "weer_data['datetime'] = pd.to_datetime(weer_data['time'])\n",
    "weer_data['date'] = weer_data['datetime'].dt.date\n",
    "weer_data['hour'] = weer_data['datetime'].dt.hour\n",
    "weer_data['year'] = weer_data['datetime'].dt.year\n",
    "weer_data['month'] = weer_data['datetime'].dt.month\n",
    "weer_data['day'] = weer_data['datetime'].dt.day\n",
    "\n",
    "weer_data = weer_data.drop(columns=['time', 'day_of_week'])\n",
    "\n",
    "weer_data.sample(5)"
   ]
  },
  {
   "cell_type": "markdown",
   "metadata": {},
   "source": [
    "Weerdata mergen op datum en uur"
   ]
  },
  {
   "cell_type": "code",
   "execution_count": 31,
   "metadata": {},
   "outputs": [
    {
     "data": {
      "application/vnd.microsoft.datawrangler.viewer.v0+json": {
       "columns": [
        {
         "name": "index",
         "rawType": "int64",
         "type": "integer"
        },
        {
         "name": "timestamp",
         "rawType": "datetime64[ns]",
         "type": "datetime"
        },
        {
         "name": "channel",
         "rawType": "object",
         "type": "string"
        },
        {
         "name": "program",
         "rawType": "object",
         "type": "string"
        },
        {
         "name": "duration_sec",
         "rawType": "float64",
         "type": "float"
        },
        {
         "name": "live",
         "rawType": "int64",
         "type": "integer"
        },
        {
         "name": "viewers",
         "rawType": "int64",
         "type": "integer"
        },
        {
         "name": "weather_code",
         "rawType": "float64",
         "type": "float"
        },
        {
         "name": "temperature",
         "rawType": "float64",
         "type": "float"
        },
        {
         "name": "rain",
         "rawType": "float64",
         "type": "float"
        },
        {
         "name": "windspeed",
         "rawType": "float64",
         "type": "float"
        },
        {
         "name": "snowfall",
         "rawType": "float64",
         "type": "float"
        },
        {
         "name": "precipitation",
         "rawType": "float64",
         "type": "float"
        }
       ],
       "conversionMethod": "pd.DataFrame",
       "ref": "cc955c26-5ee7-4310-92ba-3097c21d3591",
       "rows": [
        [
         "491",
         "2016-10-25 13:00:05",
         "EEN",
         "HET 1 UUR-JOURNAAL",
         "1818.0",
         "0",
         "387803",
         "3.0",
         "12.2",
         "0.0",
         "1.8",
         "0.0",
         "0.0"
        ],
        [
         "9737",
         "2018-02-04 10:45:14",
         "CANVAS",
         "SPORZA",
         "2816.0",
         "0",
         "255358",
         "2.0",
         "-0.2",
         "0.0",
         "11.1",
         "0.0",
         "0.0"
        ],
        [
         "4401",
         "2017-05-13 20:13:28",
         "EEN",
         "BLANCHE, EEN PORTRET",
         "1095.0",
         "0",
         "518488",
         "1.0",
         "14.2",
         "0.0",
         "8.4",
         "0.0",
         "0.0"
        ],
        [
         "30577",
         "2020-12-30 22:40:13",
         "VTM",
         "HELDEN VAN HIER, DOOR HET VUUR",
         "3518.0",
         "0",
         "232800",
         "3.0",
         "3.3",
         "0.0",
         "13.9",
         "0.0",
         "0.0"
        ],
        [
         "21819",
         "2019-10-04 19:00:06",
         "EEN",
         "HET 7 UUR-JOURNAAL",
         "2736.0",
         "0",
         "858362",
         "51.0",
         "12.9",
         "0.1",
         "16.3",
         "0.0",
         "0.1"
        ]
       ],
       "shape": {
        "columns": 12,
        "rows": 5
       }
      },
      "text/html": [
       "<div>\n",
       "<style scoped>\n",
       "    .dataframe tbody tr th:only-of-type {\n",
       "        vertical-align: middle;\n",
       "    }\n",
       "\n",
       "    .dataframe tbody tr th {\n",
       "        vertical-align: top;\n",
       "    }\n",
       "\n",
       "    .dataframe thead th {\n",
       "        text-align: right;\n",
       "    }\n",
       "</style>\n",
       "<table border=\"1\" class=\"dataframe\">\n",
       "  <thead>\n",
       "    <tr style=\"text-align: right;\">\n",
       "      <th></th>\n",
       "      <th>timestamp</th>\n",
       "      <th>channel</th>\n",
       "      <th>program</th>\n",
       "      <th>duration_sec</th>\n",
       "      <th>live</th>\n",
       "      <th>viewers</th>\n",
       "      <th>weather_code</th>\n",
       "      <th>temperature</th>\n",
       "      <th>rain</th>\n",
       "      <th>windspeed</th>\n",
       "      <th>snowfall</th>\n",
       "      <th>precipitation</th>\n",
       "    </tr>\n",
       "  </thead>\n",
       "  <tbody>\n",
       "    <tr>\n",
       "      <th>491</th>\n",
       "      <td>2016-10-25 13:00:05</td>\n",
       "      <td>EEN</td>\n",
       "      <td>HET 1 UUR-JOURNAAL</td>\n",
       "      <td>1818.0</td>\n",
       "      <td>0</td>\n",
       "      <td>387803</td>\n",
       "      <td>3.0</td>\n",
       "      <td>12.2</td>\n",
       "      <td>0.0</td>\n",
       "      <td>1.8</td>\n",
       "      <td>0.0</td>\n",
       "      <td>0.0</td>\n",
       "    </tr>\n",
       "    <tr>\n",
       "      <th>9737</th>\n",
       "      <td>2018-02-04 10:45:14</td>\n",
       "      <td>CANVAS</td>\n",
       "      <td>SPORZA</td>\n",
       "      <td>2816.0</td>\n",
       "      <td>0</td>\n",
       "      <td>255358</td>\n",
       "      <td>2.0</td>\n",
       "      <td>-0.2</td>\n",
       "      <td>0.0</td>\n",
       "      <td>11.1</td>\n",
       "      <td>0.0</td>\n",
       "      <td>0.0</td>\n",
       "    </tr>\n",
       "    <tr>\n",
       "      <th>4401</th>\n",
       "      <td>2017-05-13 20:13:28</td>\n",
       "      <td>EEN</td>\n",
       "      <td>BLANCHE, EEN PORTRET</td>\n",
       "      <td>1095.0</td>\n",
       "      <td>0</td>\n",
       "      <td>518488</td>\n",
       "      <td>1.0</td>\n",
       "      <td>14.2</td>\n",
       "      <td>0.0</td>\n",
       "      <td>8.4</td>\n",
       "      <td>0.0</td>\n",
       "      <td>0.0</td>\n",
       "    </tr>\n",
       "    <tr>\n",
       "      <th>30577</th>\n",
       "      <td>2020-12-30 22:40:13</td>\n",
       "      <td>VTM</td>\n",
       "      <td>HELDEN VAN HIER, DOOR HET VUUR</td>\n",
       "      <td>3518.0</td>\n",
       "      <td>0</td>\n",
       "      <td>232800</td>\n",
       "      <td>3.0</td>\n",
       "      <td>3.3</td>\n",
       "      <td>0.0</td>\n",
       "      <td>13.9</td>\n",
       "      <td>0.0</td>\n",
       "      <td>0.0</td>\n",
       "    </tr>\n",
       "    <tr>\n",
       "      <th>21819</th>\n",
       "      <td>2019-10-04 19:00:06</td>\n",
       "      <td>EEN</td>\n",
       "      <td>HET 7 UUR-JOURNAAL</td>\n",
       "      <td>2736.0</td>\n",
       "      <td>0</td>\n",
       "      <td>858362</td>\n",
       "      <td>51.0</td>\n",
       "      <td>12.9</td>\n",
       "      <td>0.1</td>\n",
       "      <td>16.3</td>\n",
       "      <td>0.0</td>\n",
       "      <td>0.1</td>\n",
       "    </tr>\n",
       "  </tbody>\n",
       "</table>\n",
       "</div>"
      ],
      "text/plain": [
       "                timestamp channel                         program  \\\n",
       "491   2016-10-25 13:00:05     EEN              HET 1 UUR-JOURNAAL   \n",
       "9737  2018-02-04 10:45:14  CANVAS                          SPORZA   \n",
       "4401  2017-05-13 20:13:28     EEN            BLANCHE, EEN PORTRET   \n",
       "30577 2020-12-30 22:40:13     VTM  HELDEN VAN HIER, DOOR HET VUUR   \n",
       "21819 2019-10-04 19:00:06     EEN              HET 7 UUR-JOURNAAL   \n",
       "\n",
       "       duration_sec  live  viewers  weather_code  temperature  rain  \\\n",
       "491          1818.0     0   387803           3.0         12.2   0.0   \n",
       "9737         2816.0     0   255358           2.0         -0.2   0.0   \n",
       "4401         1095.0     0   518488           1.0         14.2   0.0   \n",
       "30577        3518.0     0   232800           3.0          3.3   0.0   \n",
       "21819        2736.0     0   858362          51.0         12.9   0.1   \n",
       "\n",
       "       windspeed  snowfall  precipitation  \n",
       "491          1.8       0.0            0.0  \n",
       "9737        11.1       0.0            0.0  \n",
       "4401         8.4       0.0            0.0  \n",
       "30577       13.9       0.0            0.0  \n",
       "21819       16.3       0.0            0.1  "
      ]
     },
     "execution_count": 31,
     "metadata": {},
     "output_type": "execute_result"
    }
   ],
   "source": [
    "kijkcijfers_weer = pd.merge(kijkcijfers, weer_data, on=['date', 'hour'], how='left')\n",
    "\n",
    "kijkcijfers_weer = kijkcijfers_weer[['timestamp', 'channel', 'program', 'duration_sec', 'live', 'viewers', 'weather_code', 'temperature', 'rain', 'windspeed', 'snowfall', 'precipitation']]\n",
    "\n",
    "kijkcijfers_weer.sample(5)"
   ]
  },
  {
   "cell_type": "markdown",
   "metadata": {},
   "source": [
    "Kijk of er nu nullrows zijn"
   ]
  },
  {
   "cell_type": "code",
   "execution_count": 32,
   "metadata": {},
   "outputs": [
    {
     "name": "stdout",
     "output_type": "stream",
     "text": [
      "Aantal null-rows: \n",
      "timestamp         0\n",
      "channel           0\n",
      "program           0\n",
      "duration_sec      0\n",
      "live              0\n",
      "viewers           0\n",
      "weather_code     20\n",
      "temperature      20\n",
      "rain             20\n",
      "windspeed        20\n",
      "snowfall         20\n",
      "precipitation    20\n",
      "dtype: int64\n"
     ]
    }
   ],
   "source": [
    "print(f\"Aantal null-rows: \\n{kijkcijfers_weer.isnull().sum()}\")"
   ]
  },
  {
   "cell_type": "markdown",
   "metadata": {},
   "source": [
    "De weerdata heeft 20 missende rijen data => verwijder deze"
   ]
  },
  {
   "cell_type": "code",
   "execution_count": 33,
   "metadata": {},
   "outputs": [],
   "source": [
    "kijkcijfers_weer.dropna(inplace=True)"
   ]
  },
  {
   "cell_type": "markdown",
   "metadata": {},
   "source": [
    "Gecombineerde data wegschrijven"
   ]
  },
  {
   "cell_type": "code",
   "execution_count": 34,
   "metadata": {},
   "outputs": [],
   "source": [
    "kijkcijfers_weer.to_csv('./data/processed/tv_kijkcijfers_weer.csv', index=False)"
   ]
  },
  {
   "cell_type": "code",
   "execution_count": 44,
   "metadata": {},
   "outputs": [
    {
     "data": {
      "text/plain": [
       "count       60,508.00\n",
       "mean       446,055.26\n",
       "std        278,183.65\n",
       "min         15,887.00\n",
       "25%        229,910.00\n",
       "50%        360,262.00\n",
       "75%        606,146.00\n",
       "max      2,494,114.00\n",
       "Name: viewers, dtype: object"
      ]
     },
     "execution_count": 44,
     "metadata": {},
     "output_type": "execute_result"
    }
   ],
   "source": [
    "kijkcijfers_weer['viewers'].describe().apply(lambda x: format(x, ',.2f'))"
   ]
  }
 ],
 "metadata": {
  "kernelspec": {
   "display_name": "Python 3",
   "language": "python",
   "name": "python3"
  },
  "language_info": {
   "codemirror_mode": {
    "name": "ipython",
    "version": 3
   },
   "file_extension": ".py",
   "mimetype": "text/x-python",
   "name": "python",
   "nbconvert_exporter": "python",
   "pygments_lexer": "ipython3",
   "version": "3.13.2"
  }
 },
 "nbformat": 4,
 "nbformat_minor": 2
}
