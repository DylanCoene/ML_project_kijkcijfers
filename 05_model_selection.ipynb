{
 "cells": [
  {
   "cell_type": "code",
   "execution_count": 19,
   "metadata": {},
   "outputs": [],
   "source": [
    "import numpy as np\n",
    "import pandas as pd\n",
    "\n",
    "from sklearn.model_selection import train_test_split, cross_val_predict, cross_val_score\n",
    "from sklearn.metrics import mean_absolute_error, mean_absolute_percentage_error\n",
    "\n",
    "from sklearn.linear_model import LinearRegression\n",
    "from sklearn.ensemble import RandomForestRegressor, GradientBoostingRegressor\n",
    "from sklearn.tree import DecisionTreeRegressor\n",
    "from sklearn.svm import SVR\n",
    "from sklearn.neighbors import KNeighborsRegressor"
   ]
  },
  {
   "cell_type": "code",
   "execution_count": 20,
   "metadata": {},
   "outputs": [],
   "source": [
    "kijkcijfers = pd.read_csv('./data/feature_eng/kijkcijfers_target_encoded.csv')\n",
    "\n",
    "# Enkel numerieke kolommen\n",
    "kijkcijfers = kijkcijfers.select_dtypes(include=[np.number])\n",
    "\n",
    "X = kijkcijfers.drop(columns=['viewers'])\n",
    "y = kijkcijfers['viewers']\n",
    "\n",
    "# Split data in training en test set\n",
    "# De test set wordt pas later gebruikt om de beste modellen te evalueren\n",
    "X_train, X_test, y_train, y_test = train_test_split(X, y, test_size=0.2, shuffle=True)"
   ]
  },
  {
   "cell_type": "markdown",
   "metadata": {},
   "source": [
    "# Model Selection"
   ]
  },
  {
   "cell_type": "code",
   "execution_count": null,
   "metadata": {},
   "outputs": [],
   "source": [
    "# Functie om scores van een model te berekenen\n",
    "def get_scores(model, cv=5):\n",
    "    print(f\"Model: {model.__class__.__name__}\")\n",
    "    # Bereken MAE scores\n",
    "    mae_scores = cross_val_score(model, X_train, y_train, cv=cv, scoring='neg_mean_absolute_error')\n",
    "    mae = -np.mean(mae_scores)\n",
    "    \n",
    "    # Bereken MAPE scores\n",
    "    mape_scores = cross_val_score(model, X_train, y_train, cv=cv, scoring='neg_mean_absolute_percentage_error')\n",
    "    mape = -np.mean(mape_scores) * 100\n",
    "    \n",
    "    print(f\"MAE: {mae:.2f}\")\n",
    "    print(f\"MAPE: {mape:.2f}%\")\n",
    "\n",
    "# Functie om van lijst van modellen scores te berekenen\n",
    "def evaluate_models(models):\n",
    "    for model in models:\n",
    "        get_scores(model)\n",
    "        print()"
   ]
  },
  {
   "cell_type": "markdown",
   "metadata": {},
   "source": [
    "## Get scores for multiple kinds of models"
   ]
  },
  {
   "cell_type": "code",
   "execution_count": 29,
   "metadata": {},
   "outputs": [
    {
     "name": "stdout",
     "output_type": "stream",
     "text": [
      "Model: LinearRegression\n",
      "MAE: 100761.42\n",
      "MAPE: 32.20%\n",
      "\n",
      "Model: DecisionTreeRegressor\n",
      "MAE: 79431.20\n",
      "MAPE: 21.70%\n",
      "\n",
      "Model: RandomForestRegressor\n",
      "MAE: 58783.60\n",
      "MAPE: 16.62%\n",
      "\n",
      "Model: KNeighborsRegressor\n",
      "MAE: 83482.60\n",
      "MAPE: 24.92%\n",
      "\n",
      "Model: SVR\n",
      "MAE: 211115.74\n",
      "MAPE: 54.71%\n",
      "\n",
      "Model: GradientBoostingRegressor\n",
      "MAE: 77949.08\n",
      "MAPE: 23.05%\n",
      "\n"
     ]
    }
   ],
   "source": [
    "lin_reg = LinearRegression()\n",
    "dt_reg = DecisionTreeRegressor()\n",
    "rf_reg = RandomForestRegressor()\n",
    "knn_reg = KNeighborsRegressor()\n",
    "svr_reg = SVR()\n",
    "gb_reg = GradientBoostingRegressor()\n",
    "\n",
    "evaluate_models([lin_reg, dt_reg, rf_reg, knn_reg, svr_reg, gb_reg])"
   ]
  },
  {
   "cell_type": "markdown",
   "metadata": {},
   "source": [
    "OUTPUT-----------------\\\n",
    "Model: LinearRegression\\\n",
    "MAE: 100,761.42\\\n",
    "MAPE: 32.20%\n",
    "\n",
    "Model: DecisionTreeRegressor\\\n",
    "MAE: 79,431.20\\\n",
    "MAPE: 21.70%\n",
    "\n",
    "Model: RandomForestRegressor\\\n",
    "MAE: 58,783.60\\\n",
    "MAPE: 16.35%\n",
    "\n",
    "Model: KNeighborsRegressor\\\n",
    "MAE: 83,482.60\\\n",
    "MAPE: 24.92%\n",
    "\n",
    "Model: SVR\\\n",
    "MAE: 211,115.74\\\n",
    "MAPE: 54.71%\n",
    "\n",
    "Model: GradientBoostingRegressor\\\n",
    "MAE: 77,949.08\\\n",
    "MAPE: 23.05%"
   ]
  },
  {
   "cell_type": "markdown",
   "metadata": {},
   "source": [
    "Model met beste performantie = `RandomForestRegressor`"
   ]
  }
 ],
 "metadata": {
  "kernelspec": {
   "display_name": "Python 3",
   "language": "python",
   "name": "python3"
  },
  "language_info": {
   "codemirror_mode": {
    "name": "ipython",
    "version": 3
   },
   "file_extension": ".py",
   "mimetype": "text/x-python",
   "name": "python",
   "nbconvert_exporter": "python",
   "pygments_lexer": "ipython3",
   "version": "3.13.2"
  }
 },
 "nbformat": 4,
 "nbformat_minor": 2
}
