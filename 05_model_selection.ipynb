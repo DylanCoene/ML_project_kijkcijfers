{
 "cells": [
  {
   "cell_type": "code",
   "execution_count": 17,
   "metadata": {},
   "outputs": [],
   "source": [
    "import numpy as np\n",
    "import pandas as pd\n",
    "import time\n",
    "\n",
    "from sklearn.preprocessing import StandardScaler\n",
    "\n",
    "from sklearn.model_selection import train_test_split, cross_val_predict, cross_val_score\n",
    "from sklearn.metrics import mean_absolute_error, mean_absolute_percentage_error\n",
    "\n",
    "from sklearn.linear_model import LinearRegression\n",
    "from sklearn.ensemble import RandomForestRegressor, GradientBoostingRegressor\n",
    "from sklearn.tree import DecisionTreeRegressor\n",
    "from sklearn.svm import SVR\n",
    "from sklearn.neighbors import KNeighborsRegressor\n",
    "\n",
    "from xgboost import XGBRegressor"
   ]
  },
  {
   "cell_type": "code",
   "execution_count": 18,
   "metadata": {},
   "outputs": [],
   "source": [
    "kijkcijfers = pd.read_csv('./data/feature_eng/kijkcijfers_target_encoded.csv')\n",
    "\n",
    "# Enkel numerieke kolommen\n",
    "kijkcijfers = kijkcijfers.select_dtypes(include=[np.number])\n",
    "\n",
    "X = kijkcijfers.drop(columns=['viewers'])\n",
    "y = kijkcijfers['viewers']\n",
    "\n",
    "# Pas standard scaler toe op de features\n",
    "scaler = StandardScaler()\n",
    "X = scaler.fit_transform(X)\n",
    "\n",
    "# Split data in training en test set\n",
    "# De test set wordt pas later gebruikt om de beste modellen te evalueren\n",
    "X_train, X_test, y_train, y_test = train_test_split(X, y, test_size=0.2, shuffle=True)"
   ]
  },
  {
   "cell_type": "markdown",
   "metadata": {},
   "source": [
    "# Model Selection"
   ]
  },
  {
   "cell_type": "code",
   "execution_count": 15,
   "metadata": {},
   "outputs": [],
   "source": [
    "# Functie om scores van een model te berekenen\n",
    "def get_scores(model, cv=5):\n",
    "    print(f\"Model: {model.__class__.__name__}\")\n",
    "    # Bereken MAE scores\n",
    "    mae_scores = cross_val_score(model, X_train, y_train, cv=cv, scoring='neg_mean_absolute_error')\n",
    "    mae = -np.mean(mae_scores)\n",
    "    \n",
    "    # Bereken MAPE scores\n",
    "    mape_scores = cross_val_score(model, X_train, y_train, cv=cv, scoring='neg_mean_absolute_percentage_error')\n",
    "    mape = -np.mean(mape_scores) * 100\n",
    "    \n",
    "    print(f\"MAE: {mae:.2f}\")\n",
    "    print(f\"MAPE: {mape:.2f}%\")\n",
    "\n",
    "# Functie om van lijst van modellen scores te berekenen\n",
    "def evaluate_models(models):\n",
    "    for model in models:\n",
    "        start_time = time.time()\n",
    "        get_scores(model)\n",
    "        end_time = time.time()\n",
    "        duration = end_time - start_time\n",
    "        minutes, seconds = divmod(duration, 60)\n",
    "        print(f\"Duration: {int(minutes)} minutes {seconds:.2f} seconds\\n\")"
   ]
  },
  {
   "cell_type": "markdown",
   "metadata": {},
   "source": [
    "## Get scores for multiple kinds of models"
   ]
  },
  {
   "cell_type": "code",
   "execution_count": 19,
   "metadata": {},
   "outputs": [
    {
     "name": "stdout",
     "output_type": "stream",
     "text": [
      "Model: XGBRegressor\n",
      "MAE: 51303.74\n",
      "MAPE: 14.97%\n",
      "Duration: 0 minutes 6.51 seconds\n",
      "\n",
      "Model: LinearRegression\n",
      "MAE: 65334.08\n",
      "MAPE: 19.66%\n",
      "Duration: 0 minutes 2.11 seconds\n",
      "\n",
      "Model: DecisionTreeRegressor\n",
      "MAE: 75803.01\n",
      "MAPE: 21.64%\n",
      "Duration: 0 minutes 11.51 seconds\n",
      "\n",
      "Model: RandomForestRegressor\n",
      "MAE: 52549.61\n",
      "MAPE: 15.73%\n",
      "Duration: 11 minutes 24.63 seconds\n",
      "\n",
      "Model: KNeighborsRegressor\n",
      "MAE: 76876.50\n",
      "MAPE: 23.19%\n",
      "Duration: 0 minutes 9.42 seconds\n",
      "\n",
      "Model: GradientBoostingRegressor\n",
      "MAE: 56922.50\n",
      "MAPE: 17.09%\n",
      "Duration: 5 minutes 49.32 seconds\n",
      "\n"
     ]
    }
   ],
   "source": [
    "lin_reg = LinearRegression()\n",
    "dt_reg = DecisionTreeRegressor()\n",
    "rf_reg = RandomForestRegressor()\n",
    "knn_reg = KNeighborsRegressor()\n",
    "gb_reg = GradientBoostingRegressor()\n",
    "xgb_reg = XGBRegressor()\n",
    "\n",
    "evaluate_models([xgb_reg, lin_reg, dt_reg, rf_reg, knn_reg, gb_reg])"
   ]
  },
  {
   "cell_type": "markdown",
   "metadata": {},
   "source": [
    "OUTPUT-----------------\\\n",
    "Model: XGBRegressor\\\n",
    "MAE: 51303.74\\\n",
    "MAPE: 14.97%\\\n",
    "Duration: 0 minutes 6.51 seconds\n",
    "\n",
    "Model: LinearRegression\\\n",
    "MAE: 65334.08\\\n",
    "MAPE: 19.66%\\\n",
    "Duration: 0 minutes 2.11 seconds\n",
    "\n",
    "Model: DecisionTreeRegressor\\\n",
    "MAE: 75803.01\\\n",
    "MAPE: 21.64%\\\n",
    "Duration: 0 minutes 11.51 seconds\n",
    "\n",
    "Model: RandomForestRegressor\\\n",
    "MAE: 52549.61\\\n",
    "MAPE: 15.73%\\\n",
    "Duration: 11 minutes 24.63 seconds\n",
    "\n",
    "Model: KNeighborsRegressor\\\n",
    "MAE: 76876.50\\\n",
    "MAPE: 23.19%\\\n",
    "Duration: 0 minutes 9.42 seconds\n",
    "\n",
    "Model: GradientBoostingRegressor\\\n",
    "MAE: 56922.50\\\n",
    "MAPE: 17.09%\\\n",
    "Duration: 5 minutes 49.32 seconds"
   ]
  },
  {
   "cell_type": "markdown",
   "metadata": {},
   "source": [
    "Model met beste MAE = `XGBRegressor`\\\n",
    "2de optie is `RandomForestRegressor`\\\n",
    "Enige probleem is dat deze lang duurt om te trainen."
   ]
  }
 ],
 "metadata": {
  "kernelspec": {
   "display_name": "Python 3",
   "language": "python",
   "name": "python3"
  },
  "language_info": {
   "codemirror_mode": {
    "name": "ipython",
    "version": 3
   },
   "file_extension": ".py",
   "mimetype": "text/x-python",
   "name": "python",
   "nbconvert_exporter": "python",
   "pygments_lexer": "ipython3",
   "version": "3.13.2"
  }
 },
 "nbformat": 4,
 "nbformat_minor": 2
}
