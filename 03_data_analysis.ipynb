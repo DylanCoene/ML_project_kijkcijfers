{
 "cells": [
  {
   "cell_type": "code",
   "execution_count": 23,
   "metadata": {},
   "outputs": [],
   "source": [
    "import pandas as pd\n",
    "import numpy as np\n",
    "import matplotlib.pyplot as plt\n",
    "import seaborn as sns\n",
    "import holidays"
   ]
  },
  {
   "cell_type": "markdown",
   "metadata": {},
   "source": [
    "# Analyse van de opgekuiste data"
   ]
  },
  {
   "cell_type": "code",
   "execution_count": 24,
   "metadata": {},
   "outputs": [
    {
     "data": {
      "application/vnd.microsoft.datawrangler.viewer.v0+json": {
       "columns": [
        {
         "name": "index",
         "rawType": "int64",
         "type": "integer"
        },
        {
         "name": "timestamp",
         "rawType": "datetime64[ns]",
         "type": "datetime"
        },
        {
         "name": "channel",
         "rawType": "object",
         "type": "string"
        },
        {
         "name": "program",
         "rawType": "object",
         "type": "string"
        },
        {
         "name": "duration_sec",
         "rawType": "float64",
         "type": "float"
        },
        {
         "name": "live",
         "rawType": "int64",
         "type": "integer"
        },
        {
         "name": "viewers",
         "rawType": "int64",
         "type": "integer"
        },
        {
         "name": "weather_code",
         "rawType": "float64",
         "type": "float"
        },
        {
         "name": "temperature",
         "rawType": "float64",
         "type": "float"
        },
        {
         "name": "rain",
         "rawType": "float64",
         "type": "float"
        },
        {
         "name": "windspeed",
         "rawType": "float64",
         "type": "float"
        },
        {
         "name": "snowfall",
         "rawType": "float64",
         "type": "float"
        },
        {
         "name": "precipitation",
         "rawType": "float64",
         "type": "float"
        }
       ],
       "conversionMethod": "pd.DataFrame",
       "ref": "9f27aa06-9f92-400c-8f79-5507713b4b44",
       "rows": [
        [
         "22880",
         "2019-11-26 20:39:24",
         "EEN",
         "HET HUIS - WILLY SOMMERS",
         "3255.0",
         "0",
         "846704",
         "3.0",
         "11.0",
         "0.0",
         "20.2",
         "0.0",
         "0.0"
        ],
        [
         "49316",
         "2023-07-30 18:12:53",
         "VRT 1",
         "NADIYA'S AMERICAN ADVENTURE",
         "2609.0",
         "7",
         "321104",
         "51.0",
         "18.2",
         "0.3",
         "25.2",
         "0.0",
         "0.3"
        ],
        [
         "51390",
         "2023-11-11 18:59:49",
         "VTM",
         "NIEUWS 19U VTM",
         "2568.0",
         "7",
         "566299",
         "0.0",
         "6.4",
         "0.0",
         "8.0",
         "0.0",
         "0.0"
        ],
        [
         "3688",
         "2017-04-06 13:00:04",
         "EEN",
         "HET 1 UUR-JOURNAAL",
         "1455.0",
         "0",
         "383704",
         "3.0",
         "9.6",
         "0.0",
         "12.4",
         "0.0",
         "0.0"
        ],
        [
         "57160",
         "2024-09-06 22:29:59",
         "VRT 1",
         "EEN DAG IN PARIJS",
         "2008.0",
         "28",
         "140259",
         "2.0",
         "17.0",
         "0.0",
         "4.3",
         "0.0",
         "0.0"
        ],
        [
         "29661",
         "2020-11-14 19:46:30",
         "EEN",
         "HET GROOTSTE LICHTPUNT TEGEN KANKER",
         "1730.0",
         "0",
         "761666",
         "3.0",
         "13.3",
         "0.0",
         "24.5",
         "0.0",
         "0.0"
        ],
        [
         "30395",
         "2020-12-21 20:36:18",
         "Canvas",
         "EPIC YELLOWSTONE - FIRE AND ICE",
         "2935.0",
         "0",
         "252187",
         "51.0",
         "11.7",
         "0.3",
         "27.3",
         "0.0",
         "0.3"
        ],
        [
         "11429",
         "2018-04-29 18:11:23",
         "EEN",
         "DAGELIJKSE KOST",
         "2723.0",
         "0",
         "330623",
         "51.0",
         "12.2",
         "0.2",
         "14.7",
         "0.0",
         "0.2"
        ],
        [
         "30472",
         "2020-12-25 12:59:54",
         "VTM",
         "NIEUWS 13U VTM",
         "1585.0",
         "0",
         "274166",
         "1.0",
         "5.1",
         "0.0",
         "14.3",
         "0.0",
         "0.0"
        ],
        [
         "42253",
         "2022-08-05 21:18:40",
         "EEN",
         "VERA",
         "5350.0",
         "0",
         "380198",
         "0.0",
         "15.3",
         "0.0",
         "8.7",
         "0.0",
         "0.0"
        ]
       ],
       "shape": {
        "columns": 12,
        "rows": 10
       }
      },
      "text/html": [
       "<div>\n",
       "<style scoped>\n",
       "    .dataframe tbody tr th:only-of-type {\n",
       "        vertical-align: middle;\n",
       "    }\n",
       "\n",
       "    .dataframe tbody tr th {\n",
       "        vertical-align: top;\n",
       "    }\n",
       "\n",
       "    .dataframe thead th {\n",
       "        text-align: right;\n",
       "    }\n",
       "</style>\n",
       "<table border=\"1\" class=\"dataframe\">\n",
       "  <thead>\n",
       "    <tr style=\"text-align: right;\">\n",
       "      <th></th>\n",
       "      <th>timestamp</th>\n",
       "      <th>channel</th>\n",
       "      <th>program</th>\n",
       "      <th>duration_sec</th>\n",
       "      <th>live</th>\n",
       "      <th>viewers</th>\n",
       "      <th>weather_code</th>\n",
       "      <th>temperature</th>\n",
       "      <th>rain</th>\n",
       "      <th>windspeed</th>\n",
       "      <th>snowfall</th>\n",
       "      <th>precipitation</th>\n",
       "    </tr>\n",
       "  </thead>\n",
       "  <tbody>\n",
       "    <tr>\n",
       "      <th>22880</th>\n",
       "      <td>2019-11-26 20:39:24</td>\n",
       "      <td>EEN</td>\n",
       "      <td>HET HUIS - WILLY SOMMERS</td>\n",
       "      <td>3255.0</td>\n",
       "      <td>0</td>\n",
       "      <td>846704</td>\n",
       "      <td>3.0</td>\n",
       "      <td>11.0</td>\n",
       "      <td>0.0</td>\n",
       "      <td>20.2</td>\n",
       "      <td>0.0</td>\n",
       "      <td>0.0</td>\n",
       "    </tr>\n",
       "    <tr>\n",
       "      <th>49316</th>\n",
       "      <td>2023-07-30 18:12:53</td>\n",
       "      <td>VRT 1</td>\n",
       "      <td>NADIYA'S AMERICAN ADVENTURE</td>\n",
       "      <td>2609.0</td>\n",
       "      <td>7</td>\n",
       "      <td>321104</td>\n",
       "      <td>51.0</td>\n",
       "      <td>18.2</td>\n",
       "      <td>0.3</td>\n",
       "      <td>25.2</td>\n",
       "      <td>0.0</td>\n",
       "      <td>0.3</td>\n",
       "    </tr>\n",
       "    <tr>\n",
       "      <th>51390</th>\n",
       "      <td>2023-11-11 18:59:49</td>\n",
       "      <td>VTM</td>\n",
       "      <td>NIEUWS 19U VTM</td>\n",
       "      <td>2568.0</td>\n",
       "      <td>7</td>\n",
       "      <td>566299</td>\n",
       "      <td>0.0</td>\n",
       "      <td>6.4</td>\n",
       "      <td>0.0</td>\n",
       "      <td>8.0</td>\n",
       "      <td>0.0</td>\n",
       "      <td>0.0</td>\n",
       "    </tr>\n",
       "    <tr>\n",
       "      <th>3688</th>\n",
       "      <td>2017-04-06 13:00:04</td>\n",
       "      <td>EEN</td>\n",
       "      <td>HET 1 UUR-JOURNAAL</td>\n",
       "      <td>1455.0</td>\n",
       "      <td>0</td>\n",
       "      <td>383704</td>\n",
       "      <td>3.0</td>\n",
       "      <td>9.6</td>\n",
       "      <td>0.0</td>\n",
       "      <td>12.4</td>\n",
       "      <td>0.0</td>\n",
       "      <td>0.0</td>\n",
       "    </tr>\n",
       "    <tr>\n",
       "      <th>57160</th>\n",
       "      <td>2024-09-06 22:29:59</td>\n",
       "      <td>VRT 1</td>\n",
       "      <td>EEN DAG IN PARIJS</td>\n",
       "      <td>2008.0</td>\n",
       "      <td>28</td>\n",
       "      <td>140259</td>\n",
       "      <td>2.0</td>\n",
       "      <td>17.0</td>\n",
       "      <td>0.0</td>\n",
       "      <td>4.3</td>\n",
       "      <td>0.0</td>\n",
       "      <td>0.0</td>\n",
       "    </tr>\n",
       "    <tr>\n",
       "      <th>29661</th>\n",
       "      <td>2020-11-14 19:46:30</td>\n",
       "      <td>EEN</td>\n",
       "      <td>HET GROOTSTE LICHTPUNT TEGEN KANKER</td>\n",
       "      <td>1730.0</td>\n",
       "      <td>0</td>\n",
       "      <td>761666</td>\n",
       "      <td>3.0</td>\n",
       "      <td>13.3</td>\n",
       "      <td>0.0</td>\n",
       "      <td>24.5</td>\n",
       "      <td>0.0</td>\n",
       "      <td>0.0</td>\n",
       "    </tr>\n",
       "    <tr>\n",
       "      <th>30395</th>\n",
       "      <td>2020-12-21 20:36:18</td>\n",
       "      <td>Canvas</td>\n",
       "      <td>EPIC YELLOWSTONE - FIRE AND ICE</td>\n",
       "      <td>2935.0</td>\n",
       "      <td>0</td>\n",
       "      <td>252187</td>\n",
       "      <td>51.0</td>\n",
       "      <td>11.7</td>\n",
       "      <td>0.3</td>\n",
       "      <td>27.3</td>\n",
       "      <td>0.0</td>\n",
       "      <td>0.3</td>\n",
       "    </tr>\n",
       "    <tr>\n",
       "      <th>11429</th>\n",
       "      <td>2018-04-29 18:11:23</td>\n",
       "      <td>EEN</td>\n",
       "      <td>DAGELIJKSE KOST</td>\n",
       "      <td>2723.0</td>\n",
       "      <td>0</td>\n",
       "      <td>330623</td>\n",
       "      <td>51.0</td>\n",
       "      <td>12.2</td>\n",
       "      <td>0.2</td>\n",
       "      <td>14.7</td>\n",
       "      <td>0.0</td>\n",
       "      <td>0.2</td>\n",
       "    </tr>\n",
       "    <tr>\n",
       "      <th>30472</th>\n",
       "      <td>2020-12-25 12:59:54</td>\n",
       "      <td>VTM</td>\n",
       "      <td>NIEUWS 13U VTM</td>\n",
       "      <td>1585.0</td>\n",
       "      <td>0</td>\n",
       "      <td>274166</td>\n",
       "      <td>1.0</td>\n",
       "      <td>5.1</td>\n",
       "      <td>0.0</td>\n",
       "      <td>14.3</td>\n",
       "      <td>0.0</td>\n",
       "      <td>0.0</td>\n",
       "    </tr>\n",
       "    <tr>\n",
       "      <th>42253</th>\n",
       "      <td>2022-08-05 21:18:40</td>\n",
       "      <td>EEN</td>\n",
       "      <td>VERA</td>\n",
       "      <td>5350.0</td>\n",
       "      <td>0</td>\n",
       "      <td>380198</td>\n",
       "      <td>0.0</td>\n",
       "      <td>15.3</td>\n",
       "      <td>0.0</td>\n",
       "      <td>8.7</td>\n",
       "      <td>0.0</td>\n",
       "      <td>0.0</td>\n",
       "    </tr>\n",
       "  </tbody>\n",
       "</table>\n",
       "</div>"
      ],
      "text/plain": [
       "                timestamp channel                              program  \\\n",
       "22880 2019-11-26 20:39:24     EEN             HET HUIS - WILLY SOMMERS   \n",
       "49316 2023-07-30 18:12:53   VRT 1          NADIYA'S AMERICAN ADVENTURE   \n",
       "51390 2023-11-11 18:59:49     VTM                       NIEUWS 19U VTM   \n",
       "3688  2017-04-06 13:00:04     EEN                   HET 1 UUR-JOURNAAL   \n",
       "57160 2024-09-06 22:29:59   VRT 1                    EEN DAG IN PARIJS   \n",
       "29661 2020-11-14 19:46:30     EEN  HET GROOTSTE LICHTPUNT TEGEN KANKER   \n",
       "30395 2020-12-21 20:36:18  Canvas      EPIC YELLOWSTONE - FIRE AND ICE   \n",
       "11429 2018-04-29 18:11:23     EEN                      DAGELIJKSE KOST   \n",
       "30472 2020-12-25 12:59:54     VTM                       NIEUWS 13U VTM   \n",
       "42253 2022-08-05 21:18:40     EEN                                 VERA   \n",
       "\n",
       "       duration_sec  live  viewers  weather_code  temperature  rain  \\\n",
       "22880        3255.0     0   846704           3.0         11.0   0.0   \n",
       "49316        2609.0     7   321104          51.0         18.2   0.3   \n",
       "51390        2568.0     7   566299           0.0          6.4   0.0   \n",
       "3688         1455.0     0   383704           3.0          9.6   0.0   \n",
       "57160        2008.0    28   140259           2.0         17.0   0.0   \n",
       "29661        1730.0     0   761666           3.0         13.3   0.0   \n",
       "30395        2935.0     0   252187          51.0         11.7   0.3   \n",
       "11429        2723.0     0   330623          51.0         12.2   0.2   \n",
       "30472        1585.0     0   274166           1.0          5.1   0.0   \n",
       "42253        5350.0     0   380198           0.0         15.3   0.0   \n",
       "\n",
       "       windspeed  snowfall  precipitation  \n",
       "22880       20.2       0.0            0.0  \n",
       "49316       25.2       0.0            0.3  \n",
       "51390        8.0       0.0            0.0  \n",
       "3688        12.4       0.0            0.0  \n",
       "57160        4.3       0.0            0.0  \n",
       "29661       24.5       0.0            0.0  \n",
       "30395       27.3       0.0            0.3  \n",
       "11429       14.7       0.0            0.2  \n",
       "30472       14.3       0.0            0.0  \n",
       "42253        8.7       0.0            0.0  "
      ]
     },
     "execution_count": 24,
     "metadata": {},
     "output_type": "execute_result"
    }
   ],
   "source": [
    "kijkcijfers = pd.read_csv('./data/processed/tv_kijkcijfers_weer.csv')\n",
    "kijkcijfers['timestamp'] = pd.to_datetime(kijkcijfers['timestamp'])\n",
    "kijkcijfers.sample(10)"
   ]
  },
  {
   "cell_type": "markdown",
   "metadata": {},
   "source": [
    "### Meer datetime features"
   ]
  },
  {
   "cell_type": "code",
   "execution_count": 25,
   "metadata": {},
   "outputs": [],
   "source": [
    "kijkcijfers['timestamp'] = pd.to_datetime(kijkcijfers['timestamp'])\n",
    "\n",
    "# Functie om seizoen uit datum te halen\n",
    "def get_season(date):\n",
    "    if date.month in [3, 4, 5]:\n",
    "        return 'lente'\n",
    "    elif date.month in [6, 7, 8]:\n",
    "        return 'zomer'\n",
    "    elif date.month in [9, 10, 11]:\n",
    "        return 'herfst'\n",
    "    else:\n",
    "        return 'winter'\n",
    "\n",
    "kijkcijfers['season'] = kijkcijfers['timestamp'].apply(get_season)\n",
    "\n",
    "# weekday toevoegen\n",
    "kijkcijfers['weekday'] = kijkcijfers['timestamp'].dt.weekday\n",
    "\n",
    "# uur toevoegen\n",
    "kijkcijfers['hour'] = kijkcijfers['timestamp'].dt.hour\n",
    "\n",
    "# dag toevoegen\n",
    "kijkcijfers['day'] = kijkcijfers['timestamp'].dt.day\n",
    "\n",
    "# maand toevoegen\n",
    "kijkcijfers['month'] = kijkcijfers['timestamp'].dt.month\n",
    "\n",
    "# isWeekend toevoegen\n",
    "kijkcijfers['isWeekend'] = kijkcijfers['weekday'].apply(lambda x: 1 if x in [5, 6] else 0)\n",
    "\n",
    "# isPrimeTime toevoegen\n",
    "kijkcijfers['isPrimeTime'] = kijkcijfers['hour'].apply(lambda x: 1 if x >= 18 and x <= 23 else 0)\n",
    "\n",
    "# isHoliday toevoegen\n",
    "be_holidays = holidays.BE()\n",
    "kijkcijfers['isHoliday'] = kijkcijfers['timestamp'].apply(lambda x: 1 if x in be_holidays else 0)"
   ]
  },
  {
   "cell_type": "markdown",
   "metadata": {},
   "source": [
    "### Kanalen"
   ]
  },
  {
   "cell_type": "code",
   "execution_count": 26,
   "metadata": {},
   "outputs": [
    {
     "name": "stdout",
     "output_type": "stream",
     "text": [
      "Aantal verschillende kanalen: 32\n"
     ]
    }
   ],
   "source": [
    "aantal_kanalen = kijkcijfers['channel'].nunique()\n",
    "print(f'Aantal verschillende kanalen: {aantal_kanalen}')"
   ]
  },
  {
   "cell_type": "code",
   "execution_count": 27,
   "metadata": {},
   "outputs": [
    {
     "data": {
      "image/png": "[encoded data removed]",
      "text/plain": [
       "<Figure size 1000x600 with 1 Axes>"
      ]
     },
     "metadata": {},
     "output_type": "display_data"
    }
   ],
   "source": [
    "top_15_kanalen = kijkcijfers['channel'].value_counts().head(15)\n",
    "\n",
    "# Plot histogram van top 15 kanalen\n",
    "plt.figure(figsize=(10, 6))\n",
    "sns.barplot(x=top_15_channels.values, y=top_15_channels.index)\n",
    "plt.xlabel('entries')\n",
    "plt.ylabel('channel')\n",
    "plt.title('Top 15 Meestvoorkomend Kanalen')\n",
    "plt.show()"
   ]
  },
  {
   "cell_type": "markdown",
   "metadata": {},
   "source": [
    "### Programma's"
   ]
  },
  {
   "cell_type": "code",
   "execution_count": 28,
   "metadata": {},
   "outputs": [
    {
     "name": "stdout",
     "output_type": "stream",
     "text": [
      "Aantal verschillende kanalen: 5925\n"
     ]
    }
   ],
   "source": [
    "aantal_prog = kijkcijfers['program'].nunique()\n",
    "print(f'Aantal verschillende kanalen: {aantal_prog}')"
   ]
  },
  {
   "cell_type": "code",
   "execution_count": 29,
   "metadata": {},
   "outputs": [
    {
     "data": {
      "image/png": "[encoded data removed]",
      "text/plain": [
       "<Figure size 1000x600 with 1 Axes>"
      ]
     },
     "metadata": {},
     "output_type": "display_data"
    }
   ],
   "source": [
    "top_15_prog = kijkcijfers['program'].value_counts().head(15)\n",
    "\n",
    "# Plot histogram van top 15 programma's\n",
    "plt.figure(figsize=(10, 6))\n",
    "sns.barplot(x=top_15_prog.values, y=top_15_prog.index)\n",
    "plt.xlabel('entries')\n",
    "plt.ylabel('program')\n",
    "plt.title('Top 15 Meestvoorkomend Programma\\'s')\n",
    "plt.show()"
   ]
  },
  {
   "cell_type": "markdown",
   "metadata": {},
   "source": [
    "### Periodieke data"
   ]
  },
  {
   "cell_type": "code",
   "execution_count": 31,
   "metadata": {},
   "outputs": [
    {
     "data": {
      "image/png": "[encoded data removed]",
      "text/plain": [
       "<Figure size 1000x600 with 1 Axes>"
      ]
     },
     "metadata": {},
     "output_type": "display_data"
    }
   ],
   "source": [
    "total_viewers_per_season = kijkcijfers.groupby('season')['viewers'].sum()\n",
    "\n",
    "# Plot histogram van totaal aantal kijkers per seizoen\n",
    "plt.figure(figsize=(10, 6))\n",
    "sns.barplot(x=total_viewers_per_season.index, y=total_viewers_per_season.values)\n",
    "plt.xlabel('season')\n",
    "plt.ylabel('viewers')\n",
    "plt.title('Totaal aantal kijkers per seizoen')\n",
    "plt.show()"
   ]
  }
 ],
 "metadata": {
  "kernelspec": {
   "display_name": "Python 3",
   "language": "python",
   "name": "python3"
  },
  "language_info": {
   "codemirror_mode": {
    "name": "ipython",
    "version": 3
   },
   "file_extension": ".py",
   "mimetype": "text/x-python",
   "name": "python",
   "nbconvert_exporter": "python",
   "pygments_lexer": "ipython3",
   "version": "3.13.2"
  }
 },
 "nbformat": 4,
 "nbformat_minor": 2
}
