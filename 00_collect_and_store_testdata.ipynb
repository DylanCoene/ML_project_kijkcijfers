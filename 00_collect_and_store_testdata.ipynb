{
 "cells": [
  {
   "cell_type": "code",
   "execution_count": 1,
   "metadata": {},
   "outputs": [],
   "source": [
    "import requests\n",
    "import csv\n",
    "from datetime import datetime, timedelta\n",
    "import time\n",
    "import pandas as pd"
   ]
  },
  {
   "cell_type": "markdown",
   "metadata": {},
   "source": [
    "## Kijkcijfer data ophalen van laatste 10 jaar\n",
    "Indien data mist wordt deze genegeerd. Alle andere data wordt volledig in een CSV file gestoken die later gefilterd en gecleaned kan worden"
   ]
  },
  {
   "cell_type": "code",
   "execution_count": 2,
   "metadata": {},
   "outputs": [
    {
     "name": "stdout",
     "output_type": "stream",
     "text": [
      "Success: 2025-2-26 (20 programma's)\n",
      "Success: 2025-2-27 (20 programma's)\n",
      "Success: 2025-2-28 (20 programma's)\n",
      "Success: 2025-3-1 (20 programma's)\n",
      "Success: 2025-3-2 (20 programma's)\n",
      "Success: 2025-3-3 (20 programma's)\n",
      "Success: 2025-3-4 (20 programma's)\n",
      "Success: 2025-3-5 (20 programma's)\n",
      "Success: 2025-3-6 (20 programma's)\n",
      "Success: 2025-3-7 (20 programma's)\n",
      "Success: 2025-3-8 (20 programma's)\n",
      "Success: 2025-3-9 (20 programma's)\n",
      "Success: 2025-3-10 (20 programma's)\n",
      "Success: 2025-3-11 (20 programma's)\n",
      "Success: 2025-3-12 (20 programma's)\n",
      "Success: 2025-3-13 (20 programma's)\n",
      "Success: 2025-3-14 (0 programma's)\n",
      "Success: 2025-3-15 (0 programma's)\n",
      "Alle data opgehaald!\n"
     ]
    }
   ],
   "source": [
    "start_date = datetime(2025, 2, 26)\n",
    "end_date = datetime.today()\n",
    "\n",
    "# CSV-bestand aanmaken\n",
    "with open('./data/raw/tv_kijkcijfers_raw_TEST.csv', 'w') as csvfile:\n",
    "  fieldnames = [\n",
    "    'dateDiff', 'ranking', 'description', 'channel', \n",
    "    'startTime', 'rLength', 'rateInK', 'live'\n",
    "  ]\n",
    "  writer = csv.DictWriter(csvfile, fieldnames=fieldnames)\n",
    "  writer.writeheader()\n",
    "\n",
    "  # Loop door elke dag\n",
    "  current_date = start_date\n",
    "  while current_date <= end_date:\n",
    "    datum = f\"{current_date.year}-{current_date.month}-{current_date.day}\"\n",
    "    url = f\"https://api.cim.be/api/cim_tv_public_results_daily_views?dateDiff={datum}&reportType=north\"\n",
    "        \n",
    "    try:\n",
    "      response = requests.get(url)\n",
    "      if response.status_code == 200:\n",
    "        data = response.json()\n",
    "        programma_lijst = data.get('hydra:member', [])\n",
    "                \n",
    "        for programma in programma_lijst:\n",
    "          try:\n",
    "            writer.writerow({\n",
    "              'dateDiff': programma.get('dateDiff'),\n",
    "              'ranking': programma.get('ranking'),\n",
    "              'description': programma.get('description'),\n",
    "              'channel': programma.get('channel'),\n",
    "              'startTime': programma.get('startTime'),\n",
    "              'rLength': programma.get('rLength'),\n",
    "              'rateInK': programma.get('rateInK'),\n",
    "              'live': programma.get('live')\n",
    "            })\n",
    "                        \n",
    "          except Exception as e:\n",
    "            print(f\"Fout bij verwerken programma op {datum}: {e}\")\n",
    "                \n",
    "        print(f\"Success: {datum} ({len(programma_lijst)} programma's)\")\n",
    "      else:\n",
    "        print(f\"Geen data voor {datum} (HTTP {response.status_code})\")\n",
    "                \n",
    "    except Exception as e:\n",
    "      print(f\"Fout bij ophalen {datum}: {e}\")\n",
    "        \n",
    "    current_date += timedelta(days=1)\n",
    "print(\"Alle data opgehaald!\")"
   ]
  },
  {
   "cell_type": "markdown",
   "metadata": {},
   "source": [
    "# Weerdata van laatste 10 jaar ophalen"
   ]
  },
  {
   "cell_type": "code",
   "execution_count": 3,
   "metadata": {},
   "outputs": [
    {
     "name": "stdout",
     "output_type": "stream",
     "text": [
      "Successvol opgeslagen als weerdata.csv\n"
     ]
    }
   ],
   "source": [
    "# Locatie voor Vlaanderen (Brussel als centraal punt)\n",
    "latitude = 50.8503\n",
    "longitude = 4.3517\n",
    "\n",
    "# Datumberekening\n",
    "start_date = datetime(2025, 2, 26)\n",
    "end_date = datetime.today()\n",
    "\n",
    "# API parameters - Relevante hourly variabelen voor een ML model voor kijkcijfers\n",
    "url = \"https://archive-api.open-meteo.com/v1/archive\"\n",
    "params = {\n",
    "    \"latitude\": latitude,\n",
    "    \"longitude\": longitude,\n",
    "    \"start_date\": start_date.strftime('%Y-%m-%d'),\n",
    "    \"end_date\": end_date.strftime('%Y-%m-%d'),\n",
    "    \"hourly\": [\n",
    "        \"temperature_2m\",   # Gemiddelde temperatuur per uur\n",
    "        \"weathercode\",      # Weertype als code per uur\n",
    "        \"precipitation\",    # Totale neerslag per uur\n",
    "        \"rain\",             # Regen per uur\n",
    "        \"snowfall\",         # Sneeuwval per uur\n",
    "        \"cloudcover\",       # Bewolking per uur\n",
    "        \"windspeed_10m\"     # Windsnelheid per uur\n",
    "    ],\n",
    "    \"timezone\": \"Europe/Brussels\",\n",
    "    \"temperature_unit\": \"celsius\",\n",
    "    \"precipitation_unit\": \"mm\",\n",
    "    \"windspeed_unit\": \"kmh\"\n",
    "}\n",
    "\n",
    "# Data ophalen\n",
    "response = requests.get(url, params=params)\n",
    "if response.status_code == 200:\n",
    "    data = response.json()[\"hourly\"]\n",
    "    \n",
    "    # DataFrame maken met de opgehaalde variabelen\n",
    "    df = pd.DataFrame({\n",
    "        \"time\": data[\"time\"],\n",
    "        \"temperature\": data[\"temperature_2m\"],\n",
    "        \"weather_code\": data[\"weathercode\"],\n",
    "        \"precipitation\": data[\"precipitation\"],\n",
    "        \"rain\": data[\"rain\"],\n",
    "        \"snowfall\": data[\"snowfall\"],\n",
    "        \"cloudcover\": data[\"cloudcover\"],\n",
    "        \"windspeed\": data[\"windspeed_10m\"]\n",
    "    })\n",
    "    \n",
    "    # Converteer de tijdkolom naar datetime en extraheer temporele features\n",
    "    df['time'] = pd.to_datetime(df['time'])\n",
    "    df['hour'] = df['time'].dt.hour              # Uur van de dag\n",
    "    df['day_of_week'] = df['time'].dt.dayofweek     # 0 = maandag, 6 = zondag\n",
    "    df['month'] = df['time'].dt.month             # Maand (1 t/m 12)\n",
    "    df['year'] = df['time'].dt.year               # Jaar\n",
    "    \n",
    "    # Opslaan als CSV-bestand (voor later gebruik in ML modellen)\n",
    "    df.to_csv(\"./data/raw/weerdata_TEST.csv\", index=False)\n",
    "    print(\"Successvol opgeslagen als weerdata.csv\")\n",
    "\n",
    "else:\n",
    "    print(f\"Fout: {response.status_code}\")\n",
    "    print(response.text)"
   ]
  }
 ],
 "metadata": {
  "kernelspec": {
   "display_name": "Python 3",
   "language": "python",
   "name": "python3"
  },
  "language_info": {
   "codemirror_mode": {
    "name": "ipython",
    "version": 3
   },
   "file_extension": ".py",
   "mimetype": "text/x-python",
   "name": "python",
   "nbconvert_exporter": "python",
   "pygments_lexer": "ipython3",
   "version": "3.13.2"
  }
 },
 "nbformat": 4,
 "nbformat_minor": 2
}
