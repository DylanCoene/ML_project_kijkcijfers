{
 "cells": [
  {
   "cell_type": "code",
   "execution_count": 42,
   "metadata": {},
   "outputs": [],
   "source": [
    "import numpy as np\n",
    "import pandas as pd\n",
    "import time\n",
    "\n",
    "from sklearn.preprocessing import StandardScaler\n",
    "\n",
    "from sklearn.model_selection import train_test_split, cross_val_predict, cross_val_score, GridSearchCV, RandomizedSearchCV\n",
    "from sklearn.metrics import mean_absolute_error, mean_absolute_percentage_error\n",
    "from scipy.stats import randint, uniform\n",
    "\n",
    "from sklearn.ensemble import RandomForestRegressor\n",
    "from xgboost import XGBRegressor\n",
    "\n",
    "import joblib"
   ]
  },
  {
   "cell_type": "markdown",
   "metadata": {},
   "source": [
    "# Model finetuning"
   ]
  },
  {
   "cell_type": "markdown",
   "metadata": {},
   "source": [
    "### Data importeren"
   ]
  },
  {
   "cell_type": "code",
   "execution_count": 28,
   "metadata": {},
   "outputs": [],
   "source": [
    "kijkcijfers = pd.read_csv('./data/feature_eng/kijkcijfers_target_encoded.csv')\n",
    "\n",
    "# Enkel numerieke kolommen\n",
    "kijkcijfers = kijkcijfers.select_dtypes(include=[np.number])\n",
    "\n",
    "X = kijkcijfers.drop(columns=['viewers'])\n",
    "y = kijkcijfers['viewers']\n",
    "\n",
    "# Pas standard scaler toe op de features\n",
    "scaler = StandardScaler()\n",
    "X = scaler.fit_transform(X)\n",
    "\n",
    "# Split data in training en test set\n",
    "# De test set wordt pas later gebruikt om de beste modellen te evalueren\n",
    "X_train, X_test, y_train, y_test = train_test_split(X, y, test_size=0.2, shuffle=True)"
   ]
  },
  {
   "cell_type": "markdown",
   "metadata": {},
   "source": [
    "## XGBRegressor finetuning"
   ]
  },
  {
   "cell_type": "markdown",
   "metadata": {},
   "source": [
    "Eerst snel zoeken met RandomizedSearchCV"
   ]
  },
  {
   "cell_type": "code",
   "execution_count": 32,
   "metadata": {},
   "outputs": [
    {
     "name": "stdout",
     "output_type": "stream",
     "text": [
      "Fitting 5 folds for each of 100 candidates, totalling 500 fits\n",
      "Random search took 891.7988214492798 seconds\n",
      "\n",
      "Beste parameters: {'colsample_bytree': np.float64(0.7905971869094794), 'gamma': np.float64(0.035934907139148986), 'learning_rate': np.float64(0.026048677772942556), 'max_depth': 9, 'min_child_weight': 1, 'n_estimators': 782, 'reg_alpha': np.float64(5.253528767144523), 'reg_lambda': np.float64(3.0564542834344333), 'subsample': np.float64(0.9490934488850663)}\n",
      "Beste score: -48478.08046875\n"
     ]
    }
   ],
   "source": [
    "# laat parameters random variëren binnen parameter grenzen\n",
    "param_grid = {\n",
    "    'n_estimators': randint(100, 1000),\n",
    "    'learning_rate': uniform(0.01, 0.3),\n",
    "    'max_depth': randint(3, 10),\n",
    "    'min_child_weight': randint(1, 10),\n",
    "    'subsample': uniform(0.6, 0.4),  # Ensuring the range is within [0, 1]\n",
    "    'colsample_bytree': uniform(0.6, 0.4),  # Ensuring the range is within [0, 1]\n",
    "    'gamma': uniform(0, 0.5),\n",
    "    'reg_lambda': uniform(0.1, 10),\n",
    "    'reg_alpha': uniform(0, 10)\n",
    "}\n",
    "\n",
    "xgb = XGBRegressor()\n",
    "\n",
    "random_search = RandomizedSearchCV(\n",
    "    estimator=xgb,\n",
    "    param_distributions=param_grid,\n",
    "    n_iter=100,\n",
    "    cv=5,\n",
    "    scoring='neg_mean_absolute_error',\n",
    "    n_jobs=-1,\n",
    "    verbose=2\n",
    ")\n",
    "\n",
    "start = time.time()\n",
    "\n",
    "random_search.fit(X_train, y_train)\n",
    "\n",
    "print(f'Random search took {time.time() - start} seconds\\n')\n",
    "print(f'Beste parameters: {random_search.best_params_}')\n",
    "print(f'Beste score: {random_search.best_score_}')"
   ]
  },
  {
   "cell_type": "code",
   "execution_count": null,
   "metadata": {},
   "outputs": [
    {
     "name": "stdout",
     "output_type": "stream",
     "text": [
      "Fitting 5 folds for each of 100 candidates, totalling 500 fits\n",
      "Random search took 1265.5441715717316 seconds\n",
      "\n",
      "Beste parameters: {'colsample_bytree': 0.8, 'gamma': np.float64(0.04693476676031165), 'learning_rate': 0.03, 'max_depth': 9, 'min_child_weight': 2, 'n_estimators': 950, 'reg_alpha': 1.0, 'reg_lambda': 3, 'subsample': 1.0}\n",
      "Beste score: -48499.4109375\n"
     ]
    }
   ],
   "source": [
    "# laat parameters random variëren binnen parameter grenzen\n",
    "param_grid = {\n",
    "    'n_estimators': range(500, 1000, 50),\n",
    "    'learning_rate': [0.015, 0.02, 0.025, 0.03],\n",
    "    'max_depth': randint(7, 10),\n",
    "    'min_child_weight': randint(1, 3),\n",
    "    'subsample': [1.0],\n",
    "    'colsample_bytree': [0.8],\n",
    "    'gamma': uniform(0.01, 0.05),\n",
    "    'reg_lambda': [3],\n",
    "    'reg_alpha': range(0, 5, 1)\n",
    "}\n",
    "\n",
    "xgb = XGBRegressor()\n",
    "\n",
    "random_search = RandomizedSearchCV(\n",
    "    estimator=xgb,\n",
    "    param_distributions=param_grid,\n",
    "    n_iter=100,\n",
    "    cv=5,\n",
    "    scoring='neg_mean_absolute_error',\n",
    "    n_jobs=-1,\n",
    "    verbose=2\n",
    ")\n",
    "\n",
    "start = time.time()\n",
    "\n",
    "random_search.fit(X_train, y_train)\n",
    "\n",
    "print(f'Random search took {time.time() - start} seconds\\n')\n",
    "print(f'Beste parameters: {random_search.best_params_}')\n",
    "print(f'Beste score: {random_search.best_score_}')"
   ]
  },
  {
   "cell_type": "markdown",
   "metadata": {},
   "source": [
    "Nu diepgaander zoeken met GridSearchCV"
   ]
  },
  {
   "cell_type": "code",
   "execution_count": 36,
   "metadata": {},
   "outputs": [
    {
     "name": "stdout",
     "output_type": "stream",
     "text": [
      "Fitting 3 folds for each of 270 candidates, totalling 810 fits\n",
      "Grid search took 2132.7597584724426 seconds\n",
      "\n",
      "Beste parameters: {'colsample_bytree': 0.8, 'gamma': 0.035, 'learning_rate': 0.03, 'max_depth': 9, 'min_child_weight': 3, 'n_estimators': 850, 'reg_alpha': 1, 'reg_lambda': 3, 'subsample': 1.0}\n",
      "Beste score: -49185.951822916664\n"
     ]
    }
   ],
   "source": [
    "param_grid= {\n",
    "    'n_estimators': [850],\n",
    "    'learning_rate': [0.025, 0.03, 0.035],\n",
    "    'max_depth': [8, 9],\n",
    "    'min_child_weight': [1,2,3],\n",
    "    'subsample': [1.0],\n",
    "    'colsample_bytree': [0.8],\n",
    "    'gamma': [0.035, 0.04, 0.045],\n",
    "    'reg_lambda': [3],\n",
    "    'reg_alpha': range(0, 5, 1)\n",
    "}\n",
    "\n",
    "grid_search= GridSearchCV(\n",
    "    estimator=xgb,\n",
    "    param_grid=param_grid,\n",
    "    cv=3,\n",
    "    scoring='neg_mean_absolute_error',\n",
    "    n_jobs=-1,\n",
    "    verbose=2\n",
    ")\n",
    "\n",
    "start = time.time()\n",
    "\n",
    "grid_search.fit(X_train, y_train)\n",
    "\n",
    "print(f'Grid search took {time.time() - start} seconds\\n')\n",
    "print(f'Beste parameters: {grid_search.best_params_}')\n",
    "print(f'Beste score: {grid_search.best_score_}')"
   ]
  },
  {
   "cell_type": "markdown",
   "metadata": {},
   "source": [
    "Fitting 3 folds for each of 270 candidates, totalling 810 fits\\\n",
    "Grid search took 2132.7597584724426 seconds\\\n",
    "\n",
    "Beste parameters: {'colsample_bytree': 0.8, 'gamma': 0.035, 'learning_rate': 0.03, 'max_depth': 9, 'min_child_weight': 3, 'n_estimators': 850, 'reg_alpha': 1, 'reg_lambda': 3, 'subsample': 1.0}\\\n",
    "Beste score: -49185.951822916664"
   ]
  },
  {
   "cell_type": "code",
   "execution_count": 38,
   "metadata": {},
   "outputs": [
    {
     "name": "stdout",
     "output_type": "stream",
     "text": [
      "Fitting 5 folds for each of 3 candidates, totalling 15 fits\n",
      "Grid search took 61.28970527648926 seconds\n",
      "\n",
      "Beste parameters: {'colsample_bytree': 0.8, 'gamma': 0.015, 'learning_rate': 0.03, 'max_depth': 9, 'min_child_weight': 4, 'n_estimators': 850, 'reg_alpha': 1, 'reg_lambda': 3, 'subsample': 1.0}\n",
      "Beste score: -48588.90234375\n"
     ]
    }
   ],
   "source": [
    "param_grid= {\n",
    "    'n_estimators': [850],\n",
    "    'learning_rate': [0.03],\n",
    "    'max_depth': [9],\n",
    "    'min_child_weight': [4],\n",
    "    'subsample': [1.0],\n",
    "    'colsample_bytree': [0.8],\n",
    "    'gamma': [0.015, 0.02 ,0.025],\n",
    "    'reg_lambda': [3],\n",
    "    'reg_alpha': [1]\n",
    "}\n",
    "\n",
    "grid_search= GridSearchCV(\n",
    "    estimator=xgb,\n",
    "    param_grid=param_grid,\n",
    "    cv=5,\n",
    "    scoring='neg_mean_absolute_error',\n",
    "    n_jobs=-1,\n",
    "    verbose=2\n",
    ")\n",
    "\n",
    "start = time.time()\n",
    "\n",
    "grid_search.fit(X_train, y_train)\n",
    "\n",
    "print(f'Grid search took {time.time() - start} seconds\\n')\n",
    "print(f'Beste parameters: {grid_search.best_params_}')\n",
    "print(f'Beste score: {grid_search.best_score_}')"
   ]
  },
  {
   "cell_type": "markdown",
   "metadata": {},
   "source": [
    "Finaal getuned model extraheren en resultaten op de test set berekenen"
   ]
  },
  {
   "cell_type": "code",
   "execution_count": 40,
   "metadata": {},
   "outputs": [
    {
     "name": "stdout",
     "output_type": "stream",
     "text": [
      "Mean absolute error: 47205.0625\n",
      "Mean absolute percentage error: 0.1372043341398239\n",
      "Accuracy: 0.8627956658601761\n"
     ]
    }
   ],
   "source": [
    "best_params = grid_search.best_params_\n",
    "tuned_model = grid_search.best_estimator_\n",
    "\n",
    "y_pred = tuned_model.predict(X_test)\n",
    "\n",
    "mae = mean_absolute_error(y_test, y_pred)\n",
    "mape = mean_absolute_percentage_error(y_test, y_pred)\n",
    "accuracy = 1 - mape\n",
    "\n",
    "print(f'Mean absolute error: {mae}')\n",
    "print(f'Mean absolute percentage error: {mape}')\n",
    "print(f'Accuracy: {accuracy}')"
   ]
  },
  {
   "cell_type": "markdown",
   "metadata": {},
   "source": [
    "Model opslaan in pkl file"
   ]
  },
  {
   "cell_type": "code",
   "execution_count": 43,
   "metadata": {},
   "outputs": [
    {
     "name": "stdout",
     "output_type": "stream",
     "text": [
      "Model saved successfully.\n"
     ]
    }
   ],
   "source": [
    "# Sla het model op\n",
    "joblib.dump(tuned_model, './models/tuned_xgb_model.pkl')\n",
    "\n",
    "print(\"Model saved successfully.\")"
   ]
  },
  {
   "cell_type": "markdown",
   "metadata": {},
   "source": [
    "## RandomForestRegressor finetuning"
   ]
  },
  {
   "cell_type": "code",
   "execution_count": 47,
   "metadata": {},
   "outputs": [
    {
     "name": "stdout",
     "output_type": "stream",
     "text": [
      "Fitting 3 folds for each of 20 candidates, totalling 60 fits\n",
      "Beste parameters: {'n_estimators': 200, 'min_samples_split': 5, 'min_samples_leaf': 1, 'max_features': 'sqrt', 'max_depth': 50, 'bootstrap': False}\n",
      "Beste score: -52034.94091757815\n"
     ]
    }
   ],
   "source": [
    "param_grid = {\n",
    "    'n_estimators': [100, 200, 500],\n",
    "    'max_depth': [10, 20, 50, None],\n",
    "    'min_samples_split': [2, 5, 10],\n",
    "    'min_samples_leaf': [1, 2, 5],\n",
    "    'max_features': ['sqrt', 'log2'],\n",
    "    'bootstrap': [True, False]\n",
    "}\n",
    "\n",
    "rf = RandomForestRegressor()\n",
    "\n",
    "random_search = RandomizedSearchCV(\n",
    "    estimator=rf,\n",
    "    param_distributions=param_grid,\n",
    "    n_iter=20,\n",
    "    cv=3,\n",
    "    scoring='neg_mean_absolute_error',\n",
    "    n_jobs=-1,\n",
    "    verbose=2\n",
    ")\n",
    "\n",
    "random_search.fit(X_train, y_train)\n",
    "\n",
    "print(f'Beste parameters: {random_search.best_params_}')\n",
    "print(f'Beste score: {random_search.best_score_}')"
   ]
  },
  {
   "cell_type": "code",
   "execution_count": 49,
   "metadata": {},
   "outputs": [
    {
     "data": {
      "application/vnd.microsoft.datawrangler.viewer.v0+json": {
       "columns": [
        {
         "name": "index",
         "rawType": "object",
         "type": "string"
        },
        {
         "name": "viewers",
         "rawType": "float64",
         "type": "float"
        }
       ],
       "conversionMethod": "pd.DataFrame",
       "ref": "14f18c1c-749e-40d2-8779-34a02083631a",
       "rows": [
        [
         "count",
         "48406.0"
        ],
        [
         "mean",
         "446206.46105854644"
        ],
        [
         "std",
         "278722.4004904745"
        ],
        [
         "min",
         "18475.0"
        ],
        [
         "25%",
         "230043.0"
        ],
        [
         "50%",
         "359936.5"
        ],
        [
         "75%",
         "605797.75"
        ],
        [
         "max",
         "2494114.0"
        ]
       ],
       "shape": {
        "columns": 1,
        "rows": 8
       }
      },
      "text/html": [
       "<div>\n",
       "<style scoped>\n",
       "    .dataframe tbody tr th:only-of-type {\n",
       "        vertical-align: middle;\n",
       "    }\n",
       "\n",
       "    .dataframe tbody tr th {\n",
       "        vertical-align: top;\n",
       "    }\n",
       "\n",
       "    .dataframe thead th {\n",
       "        text-align: right;\n",
       "    }\n",
       "</style>\n",
       "<table border=\"1\" class=\"dataframe\">\n",
       "  <thead>\n",
       "    <tr style=\"text-align: right;\">\n",
       "      <th></th>\n",
       "      <th>viewers</th>\n",
       "    </tr>\n",
       "  </thead>\n",
       "  <tbody>\n",
       "    <tr>\n",
       "      <th>count</th>\n",
       "      <td>4.840600e+04</td>\n",
       "    </tr>\n",
       "    <tr>\n",
       "      <th>mean</th>\n",
       "      <td>4.462065e+05</td>\n",
       "    </tr>\n",
       "    <tr>\n",
       "      <th>std</th>\n",
       "      <td>2.787224e+05</td>\n",
       "    </tr>\n",
       "    <tr>\n",
       "      <th>min</th>\n",
       "      <td>1.847500e+04</td>\n",
       "    </tr>\n",
       "    <tr>\n",
       "      <th>25%</th>\n",
       "      <td>2.300430e+05</td>\n",
       "    </tr>\n",
       "    <tr>\n",
       "      <th>50%</th>\n",
       "      <td>3.599365e+05</td>\n",
       "    </tr>\n",
       "    <tr>\n",
       "      <th>75%</th>\n",
       "      <td>6.057978e+05</td>\n",
       "    </tr>\n",
       "    <tr>\n",
       "      <th>max</th>\n",
       "      <td>2.494114e+06</td>\n",
       "    </tr>\n",
       "  </tbody>\n",
       "</table>\n",
       "</div>"
      ],
      "text/plain": [
       "            viewers\n",
       "count  4.840600e+04\n",
       "mean   4.462065e+05\n",
       "std    2.787224e+05\n",
       "min    1.847500e+04\n",
       "25%    2.300430e+05\n",
       "50%    3.599365e+05\n",
       "75%    6.057978e+05\n",
       "max    2.494114e+06"
      ]
     },
     "execution_count": 49,
     "metadata": {},
     "output_type": "execute_result"
    }
   ],
   "source": [
    "pd.DataFrame(y_train).describe()"
   ]
  }
 ],
 "metadata": {
  "kernelspec": {
   "display_name": "Python 3",
   "language": "python",
   "name": "python3"
  },
  "language_info": {
   "codemirror_mode": {
    "name": "ipython",
    "version": 3
   },
   "file_extension": ".py",
   "mimetype": "text/x-python",
   "name": "python",
   "nbconvert_exporter": "python",
   "pygments_lexer": "ipython3",
   "version": "3.13.2"
  }
 },
 "nbformat": 4,
 "nbformat_minor": 2
}
